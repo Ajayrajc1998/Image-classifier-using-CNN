{
 "cells": [
  {
   "cell_type": "code",
   "execution_count": 1,
   "id": "63f01292",
   "metadata": {},
   "outputs": [
    {
     "data": {
      "text/plain": [
       "'E:\\\\STACKER BEE\\\\Image classification using CNN'"
      ]
     },
     "execution_count": 1,
     "metadata": {},
     "output_type": "execute_result"
    }
   ],
   "source": [
    "import os \n",
    "os.getcwd()"
   ]
  },
  {
   "cell_type": "code",
   "execution_count": 2,
   "id": "200a9126",
   "metadata": {},
   "outputs": [],
   "source": [
    "import os\n",
    "import random\n",
    "import shutil"
   ]
  },
  {
   "cell_type": "code",
   "execution_count": 24,
   "id": "9e1afc68",
   "metadata": {},
   "outputs": [],
   "source": [
    "original_folder = r'E:\\STACKER BEE\\Image classification using CNN\\image zip file\\tgv3zb82nd-1\\Healthy-20210326T083815Z-001\\Healthy'\n",
    "sample_folder = r'E:\\STACKER BEE\\Image classification using CNN\\image zip file\\Sample Data\\Healthy'"
   ]
  },
  {
   "cell_type": "code",
   "execution_count": 19,
   "id": "2680c888",
   "metadata": {},
   "outputs": [],
   "source": [
    "healthy_folder=r'E:\\STACKER BEE\\Image classification using CNN\\image zip file\\tgv3zb82nd-1\\Healthy-20210326T083815Z-001\\Healthy'"
   ]
  },
  {
   "cell_type": "code",
   "execution_count": 14,
   "id": "2151ca39",
   "metadata": {},
   "outputs": [
    {
     "data": {
      "text/plain": [
       "'E:\\\\STACKER BEE\\\\Image classification using CNN\\\\image zip file\\\\tgv3zb82nd-1\\\\Healthy-20210326T083815Z-001\\\\Healthy'"
      ]
     },
     "execution_count": 14,
     "metadata": {},
     "output_type": "execute_result"
    }
   ],
   "source": [
    "healthy_folder"
   ]
  },
  {
   "cell_type": "code",
   "execution_count": 20,
   "id": "b759de21",
   "metadata": {},
   "outputs": [],
   "source": [
    "# Create the sample folder if it doesn't exist\n",
    "if not os.path.exists(sample_folder):\n",
    "    os.makedirs(sample_folder)"
   ]
  },
  {
   "cell_type": "code",
   "execution_count": 25,
   "id": "d0fe4cec",
   "metadata": {},
   "outputs": [],
   "source": [
    "files = os.listdir(original_folder)"
   ]
  },
  {
   "cell_type": "code",
   "execution_count": 26,
   "id": "99e2c720",
   "metadata": {},
   "outputs": [
    {
     "name": "stdout",
     "output_type": "stream",
     "text": [
      "Sampling complete. 3000 images copied to sample_data folder.\n"
     ]
    }
   ],
   "source": [
    "num_samples = 3000\n",
    "sample_files = random.sample(files, num_samples)\n",
    "for file_name in sample_files:\n",
    "    file_path = os.path.join(original_folder, file_name)\n",
    "    shutil.copy(file_path, sample_folder)\n",
    "print(\"Sampling complete. {} images copied to sample_data folder.\".format(num_samples))"
   ]
  },
  {
   "cell_type": "code",
   "execution_count": 27,
   "id": "0c94ae68",
   "metadata": {},
   "outputs": [],
   "source": [
    "def image_sample_data(orginal_folder, sample_folder):\n",
    "    import os\n",
    "    import random\n",
    "    import shutil\n",
    "    if not os.path.exists(sample_folder):\n",
    "        os.makedirs(sample_folder)\n",
    "    files = os.listdir(original_folder)\n",
    "    num_samples = 3000\n",
    "    sample_files = random.sample(files, num_samples)\n",
    "    for file_name in sample_files:\n",
    "        file_path = os.path.join(original_folder, file_name)\n",
    "        shutil.copy(file_path, sample_folder)\n",
    "    print(\"Sampling complete. {} images copied to sample_data folder.\".format(num_samples))"
   ]
  },
  {
   "cell_type": "code",
   "execution_count": 28,
   "id": "2ce69660",
   "metadata": {},
   "outputs": [
    {
     "name": "stdout",
     "output_type": "stream",
     "text": [
      "Sampling complete. 3000 images copied to sample_data folder.\n"
     ]
    }
   ],
   "source": [
    "og=r'E:\\STACKER BEE\\Image classification using CNN\\image zip file\\tgv3zb82nd-1\\Miner-20210326T082341Z-001\\Miner'\n",
    "smple=r'E:\\STACKER BEE\\Image classification using CNN\\image zip file\\Sample Data\\Miner'\n",
    "image_sample_data(og,smple)"
   ]
  },
  {
   "cell_type": "code",
   "execution_count": null,
   "id": "2f55a515",
   "metadata": {},
   "outputs": [],
   "source": []
  }
 ],
 "metadata": {
  "kernelspec": {
   "display_name": "dsvenv",
   "language": "python",
   "name": "dsvenv"
  },
  "language_info": {
   "codemirror_mode": {
    "name": "ipython",
    "version": 3
   },
   "file_extension": ".py",
   "mimetype": "text/x-python",
   "name": "python",
   "nbconvert_exporter": "python",
   "pygments_lexer": "ipython3",
   "version": "3.10.11"
  },
  "varInspector": {
   "cols": {
    "lenName": 16,
    "lenType": 16,
    "lenVar": 40
   },
   "kernels_config": {
    "python": {
     "delete_cmd_postfix": "",
     "delete_cmd_prefix": "del ",
     "library": "var_list.py",
     "varRefreshCmd": "print(var_dic_list())"
    },
    "r": {
     "delete_cmd_postfix": ") ",
     "delete_cmd_prefix": "rm(",
     "library": "var_list.r",
     "varRefreshCmd": "cat(var_dic_list()) "
    }
   },
   "types_to_exclude": [
    "module",
    "function",
    "builtin_function_or_method",
    "instance",
    "_Feature"
   ],
   "window_display": false
  }
 },
 "nbformat": 4,
 "nbformat_minor": 5
}
